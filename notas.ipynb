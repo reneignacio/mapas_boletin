{
 "cells": [
  {
   "cell_type": "code",
   "execution_count": null,
   "metadata": {},
   "outputs": [],
   "source": [
    "# -*- coding: utf-8 -*-\n",
    "import arcpy\n",
    "import os\n",
    "regiones = {\n",
    "    \"R01\": \"Región de Tarapacá\",\n",
    "    \"R02\": \"Región de Antofagasta\",\n",
    "    \"R03\": \"Región de Atacama\",\n",
    "    \"R04\": \"Región de Coquimbo\",\n",
    "    \"R05\": \"Región de Valparaíso\",\n",
    "    \"R06\": \"Región del Libertador Gral. Bernardo O'Higgins\",\n",
    "    \"R07\": \"Región del Maule\",\n",
    "    \"R08\": \"Región de Bío-Bío\",\n",
    "    \"R09\": \"Región de La Araucanía\",\n",
    "    \"R10\": \"Región de Los Lagos\",\n",
    "    \"R11\": \"Región de Aysén del Gral. Carlos Ibañez del Campo\",\n",
    "    \"R12\": \"Región de Magallanes y la Antártica Chilena\",\n",
    "    \"R13\": \"Región de Metropolitana de Santiago\",\n",
    "    \"R14\": \"Región de Los Ríos\",\n",
    "    \"R15\": \"Región de Arica y Parinacota\",\n",
    "    \"R16\": \"Región del Ñuble\"\n",
    "}\n",
    "savi=0\n",
    "mxd = arcpy.mapping.MapDocument(\"C:\\\\Users\\\\INIA\\\\Desktop\\\\MAPA_ANOMALIA_PYTHON\\ANOMALIA_SAVI.mxd\")\n",
    "df = arcpy.mapping.ListDataFrames(mxd)[0]\n",
    "layers = arcpy.mapping.ListLayers(mxd)\n",
    "layers"
   ]
  },
  {
   "cell_type": "code",
   "execution_count": null,
   "metadata": {},
   "outputs": [],
   "source": []
  }
 ],
 "metadata": {
  "kernelspec": {
   "display_name": "Python 3",
   "language": "python",
   "name": "python3"
  },
  "language_info": {
   "codemirror_mode": {
    "name": "ipython",
    "version": 2
   },
   "file_extension": ".py",
   "mimetype": "text/x-python",
   "name": "python",
   "nbconvert_exporter": "python",
   "pygments_lexer": "ipython2",
   "version": "2.7.16"
  },
  "orig_nbformat": 4
 },
 "nbformat": 4,
 "nbformat_minor": 2
}
