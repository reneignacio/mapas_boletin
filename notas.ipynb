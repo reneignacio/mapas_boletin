{
 "cells": [
  {
   "cell_type": "code",
   "execution_count": 18,
   "metadata": {},
   "outputs": [],
   "source": [
    "# -*- coding: utf-8 -*-\n",
    "import arcpy\n",
    "#import arcpy.mapping\n",
    "import os\n",
    "regiones = {\n",
    "    \"R01\": \"Región de Tarapacá\",\n",
    "    \"R02\": \"Región de Antofagasta\",\n",
    "    \"R03\": \"Región de Atacama\",\n",
    "    \"R04\": \"Región de Coquimbo\",\n",
    "    \"R05\": \"Región de Valparaíso\",\n",
    "    \"R06\": \"Región del Libertador Gral. Bernardo O'Higgins\",\n",
    "    \"R07\": \"Región del Maule\",\n",
    "    \"R08\": \"Región de Bío-Bío\",\n",
    "    \"R09\": \"Región de La Araucanía\",\n",
    "    \"R10\": \"Región de Los Lagos\",\n",
    "    \"R11\": \"Región de Aysén del Gral. Carlos Ibañez del Campo\",\n",
    "    \"R12\": \"Región de Magallanes y la Antártica Chilena\",\n",
    "    \"R13\": \"Región de Metropolitana de Santiago\",\n",
    "    \"R14\": \"Región de Los Ríos\",\n",
    "    \"R15\": \"Región de Arica y Parinacota\",\n",
    "    \"R16\": \"Región del Ñuble\"\n",
    "}\n",
    "mxd = arcpy.mapping.MapDocument(\"C:\\\\Users\\\\INIA\\\\Desktop\\\\MAPA_ANOMALIA_PYTHON\\\\ANOMALIA_SAVI.mxd\")\n",
    "df = arcpy.mapping.ListDataFrames(mxd)[0]\n",
    "layers = arcpy.mapping.ListLayers(mxd)\n",
    "\n",
    "for layer in layers:\n",
    "    if layer.isRasterLayer:\n",
    "        arcpy.mapping.RemoveLayer(df,layer)\n",
    "        print(\"{} removida\".format(layer))\n",
    "mxd.save()\n",
    "arcpy.RefreshActiveView()\n",
    "arcpy.RefreshTOC()"
   ]
  },
  {
   "cell_type": "code",
   "execution_count": 19,
   "metadata": {},
   "outputs": [
    {
     "data": {
      "text/plain": [
       "[<map layer u'Regional'>,\n",
       " <map layer u'Lagos'>,\n",
       " <map layer u'R01'>,\n",
       " <map layer u'R02'>,\n",
       " <map layer u'R03'>,\n",
       " <map layer u'R04'>,\n",
       " <map layer u'R05'>,\n",
       " <map layer u'R06'>,\n",
       " <map layer u'R07'>,\n",
       " <map layer u'R08'>,\n",
       " <map layer u'R09'>,\n",
       " <map layer u'R10'>,\n",
       " <map layer u'R11'>,\n",
       " <map layer u'R12'>,\n",
       " <map layer u'R13'>,\n",
       " <map layer u'R13'>,\n",
       " <map layer u'R13'>,\n",
       " <map layer u'R14'>,\n",
       " <map layer u'R15'>,\n",
       " <map layer u'R16'>,\n",
       " <map layer u'Glaciares_R11'>,\n",
       " <map layer u'Glaciares_R12'>,\n",
       " <map layer u'Lagos_R01'>,\n",
       " <map layer u'Lagos_R02'>,\n",
       " <map layer u'Lagos_R03'>,\n",
       " <map layer u'Lagos_R04'>,\n",
       " <map layer u'Lagos_R05'>,\n",
       " <map layer u'Lagos_R06'>,\n",
       " <map layer u'Lagos_R07'>,\n",
       " <map layer u'Lagos_R08'>,\n",
       " <map layer u'Lagos_R09'>,\n",
       " <map layer u'Lagos_R10'>,\n",
       " <map layer u'Lagos_R11'>,\n",
       " <map layer u'Lagos_R12'>,\n",
       " <map layer u'Lagos_R13'>,\n",
       " <map layer u'Lagos_R14'>,\n",
       " <map layer u'Lagos_R15'>,\n",
       " <map layer u'Lagos_R16'>,\n",
       " <map layer u'Glaciares'>,\n",
       " <map layer u'Glaciares'>,\n",
       " <map group layer u'Reference'>,\n",
       " <map group layer u'World Light Gray Reference'>,\n",
       " <map layer u'Light Gray Canvas Reference'>,\n",
       " <map group layer u'Basemap'>,\n",
       " <map group layer u'World Light Gray Canvas Base'>,\n",
       " <map layer u'Light Gray Canvas Base'>]"
      ]
     },
     "execution_count": 19,
     "metadata": {},
     "output_type": "execute_result"
    }
   ],
   "source": [
    "layers"
   ]
  },
  {
   "cell_type": "code",
   "execution_count": 20,
   "metadata": {},
   "outputs": [
    {
     "name": "stdout",
     "output_type": "stream",
     "text": [
      "tif R01 añadido\n",
      "tif R02 añadido\n",
      "tif R15 añadido\n"
     ]
    }
   ],
   "source": [
    "#Cargar capa SAVI.tif\n",
    "for region in regiones.keys():\n",
    "    R = region\n",
    "    ruta_anomalia_SAVI_tif = \"C:\\\\Users\\\\INIA\\\\Desktop\\\\2023-06-26_v2\\\\{0}\\\\TIF\\\\ANOMALIA\\\\{0}_Anomalia_SAVI_median_ZA.tif\".format(R)\n",
    "    if os.path.exists(ruta_anomalia_SAVI_tif):\n",
    "        try:\n",
    "            capa_anomalia = arcpy.mapping.Layer(ruta_anomalia_SAVI_tif)\n",
    "            arcpy.mapping.AddLayer(df, capa_anomalia, \"BOTTOM\")\n",
    "            print(\"tif {} añadido\".format(R))\n",
    "        except Exception as e:\n",
    "            print(\"Error cargando capa para la region {}: {}\".format(R, e))\n",
    "mxd.save()\n",
    "arcpy.RefreshActiveView()\n",
    "arcpy.RefreshTOC()"
   ]
  },
  {
   "cell_type": "code",
   "execution_count": 22,
   "metadata": {},
   "outputs": [],
   "source": [
    "for layer in layers:\n",
    "    if layer.isRasterLayer:\n",
    "        print(\"{} se añadio correctamente\".format(layer))"
   ]
  },
  {
   "cell_type": "code",
   "execution_count": 15,
   "metadata": {},
   "outputs": [
    {
     "name": "stdout",
     "output_type": "stream",
     "text": [
      "0\n",
      "[]\n"
     ]
    }
   ],
   "source": [
    "# Extraer solo los nombres y ordenar la lista alfabéticamente\n",
    "layer_names = sorted([layer.name for layer in arcpy.mapping.ListLayers(mxd)])\n",
    "\n",
    "# Filtrar y almacenar los nombres de las capas que contienen \"Anomalia_SAVI\"\n",
    "anomalia_savi_layers = [name for name in layer_names if \"Anomalia_SAVI\" in name]\n",
    "\n",
    "# Contar y mostrar los nombres de las capas\n",
    "anomalia_savi_count = len(anomalia_savi_layers)\n",
    "print(anomalia_savi_count)\n",
    "print(anomalia_savi_layers)\n",
    "\n",
    "\n"
   ]
  }
 ],
 "metadata": {
  "kernelspec": {
   "display_name": "Python 3",
   "language": "python",
   "name": "python3"
  },
  "language_info": {
   "codemirror_mode": {
    "name": "ipython",
    "version": 2
   },
   "file_extension": ".py",
   "mimetype": "text/x-python",
   "name": "python",
   "nbconvert_exporter": "python",
   "pygments_lexer": "ipython2",
   "version": "2.7.16"
  },
  "orig_nbformat": 4
 },
 "nbformat": 4,
 "nbformat_minor": 2
}
